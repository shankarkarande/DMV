{
 "cells": [
  {
   "cell_type": "code",
   "execution_count": 42,
   "id": "561ce1ee",
   "metadata": {},
   "outputs": [],
   "source": [
    "import pandas as pd"
   ]
  },
  {
   "cell_type": "markdown",
   "id": "861da800",
   "metadata": {},
   "source": [
    "1) Import the \"RealEstate_Prices.csv\" dataset. Clean column names by removing spaces,\n",
    "special characters, or renaming them for clarity."
   ]
  },
  {
   "cell_type": "code",
   "execution_count": 43,
   "id": "d51c0723",
   "metadata": {},
   "outputs": [],
   "source": [
    "df = pd.read_csv(\"RealEstate_Price.csv\")"
   ]
  },
  {
   "cell_type": "code",
   "execution_count": 44,
   "id": "68747b72",
   "metadata": {},
   "outputs": [
    {
     "name": "stdout",
     "output_type": "stream",
     "text": [
      "     Home     Price  SqFt  Bedrooms  Bathrooms  Offers Brick Neighborhood   \n",
      "0       1  114300.0  1790       2.0          2       2    No         East  \\\n",
      "1       2  114200.0  2030       4.0          2       3    No         East   \n",
      "2       3  114800.0  1740       3.0          2       1    No         East   \n",
      "3       4   94700.0  1980       3.0          2       3    No         East   \n",
      "4       5  119800.0  2130       3.0          3       3    No         East   \n",
      "..    ...       ...   ...       ...        ...     ...   ...          ...   \n",
      "123   124  119700.0  1900       3.0          3       3   Yes         East   \n",
      "124   125  147900.0  2160       4.0          3       3   Yes         East   \n",
      "125   126  113500.0  2070       2.0          2       2    No        North   \n",
      "126   127  149900.0  2020       3.0          3       1    No         West   \n",
      "127   128  124600.0  2250       NaN          3       4    No        North   \n",
      "\n",
      "     Sales_date  \n",
      "0    15-01-2021  \n",
      "1    21-09-2022  \n",
      "2    13-03-2022  \n",
      "3    31-08-2021  \n",
      "4    31-08-2021  \n",
      "..          ...  \n",
      "123  02-10-2022  \n",
      "124  13-03-2020  \n",
      "125  17-08-2021  \n",
      "126  15-05-2022  \n",
      "127  05-03-2020  \n",
      "\n",
      "[128 rows x 9 columns]\n"
     ]
    }
   ],
   "source": [
    "print(df)"
   ]
  },
  {
   "cell_type": "code",
   "execution_count": 45,
   "id": "9ac725f7",
   "metadata": {},
   "outputs": [],
   "source": [
    "df.columns = df.columns.str.strip()\n",
    "df.columns = df.columns.str.replace(\" \", \"_\")"
   ]
  },
  {
   "cell_type": "markdown",
   "id": "79c9639c",
   "metadata": {},
   "source": [
    "2.Handle missing values in the dataset, deciding on an appropriate strategy"
   ]
  },
  {
   "cell_type": "code",
   "execution_count": 46,
   "id": "2a00aad1",
   "metadata": {},
   "outputs": [
    {
     "name": "stdout",
     "output_type": "stream",
     "text": [
      "Home            0\n",
      "Price           4\n",
      "SqFt            0\n",
      "Bedrooms        4\n",
      "Bathrooms       0\n",
      "Offers          0\n",
      "Brick           0\n",
      "Neighborhood    0\n",
      "Sales_date      0\n",
      "dtype: int64\n"
     ]
    }
   ],
   "source": [
    "print(df.isnull().sum())"
   ]
  },
  {
   "cell_type": "code",
   "execution_count": 47,
   "id": "9ce26be6",
   "metadata": {},
   "outputs": [],
   "source": [
    "price_mean = df['Price'].mean()\n",
    "bedrooms_mode = df['Bedrooms'].mode()[0]\n",
    "\n",
    "# Impute missing values with the mode\n",
    "df['Price'].fillna(price_mean, inplace=True)\n",
    "df['Bedrooms'].fillna(bedrooms_mode, inplace=True)"
   ]
  },
  {
   "cell_type": "code",
   "execution_count": 48,
   "id": "951eeb5f",
   "metadata": {},
   "outputs": [
    {
     "name": "stdout",
     "output_type": "stream",
     "text": [
      "Home            0\n",
      "Price           0\n",
      "SqFt            0\n",
      "Bedrooms        0\n",
      "Bathrooms       0\n",
      "Offers          0\n",
      "Brick           0\n",
      "Neighborhood    0\n",
      "Sales_date      0\n",
      "dtype: int64\n"
     ]
    }
   ],
   "source": [
    "print(df.isnull().sum())"
   ]
  },
  {
   "cell_type": "markdown",
   "id": "8b699500",
   "metadata": {},
   "source": [
    "4.Filter and subset the data based on specific criteria, such as a particular time period,\n",
    "property type, or location."
   ]
  },
  {
   "cell_type": "code",
   "execution_count": 49,
   "id": "df6d1e5a",
   "metadata": {},
   "outputs": [
    {
     "name": "stdout",
     "output_type": "stream",
     "text": [
      "     Home          Price  SqFt  Bedrooms  Bathrooms  Offers Brick   \n",
      "0       1  114300.000000  1790       2.0          2       2    No  \\\n",
      "11     12  123000.000000  1870       2.0          2       2   Yes   \n",
      "18     19  111400.000000  1700       2.0          2       1   Yes   \n",
      "28     29   69100.000000  1600       2.0          2       3    No   \n",
      "31     32  112300.000000  1930       2.0          2       2   Yes   \n",
      "34     35  130718.548387  2000       2.0          2       3    No   \n",
      "36     37  117500.000000  1880       2.0          2       2    No   \n",
      "42     43  105600.000000  1990       2.0          2       3    No   \n",
      "46     47  129800.000000  1990       2.0          3       2    No   \n",
      "48     49  115900.000000  1980       2.0          2       2    No   \n",
      "51     52  130718.548387  1860       2.0          2       3    No   \n",
      "52     53  117400.000000  2150       2.0          3       4    No   \n",
      "55     56  125700.000000  1720       2.0          2       2   Yes   \n",
      "61     62  100900.000000  1610       2.0          2       2    No   \n",
      "63     64  120500.000000  1910       2.0          3       2    No   \n",
      "65     66  111100.000000  1450       2.0          2       1   Yes   \n",
      "75     76  106900.000000  1900       2.0          2       2    No   \n",
      "82     83  164800.000000  2050       2.0          2       1   Yes   \n",
      "84     85   90500.000000  1520       2.0          2       3    No   \n",
      "89     90   97800.000000  2010       2.0          2       4    No   \n",
      "95     96  152500.000000  1970       2.0          2       1   Yes   \n",
      "97     98  126800.000000  2000       2.0          2       1   Yes   \n",
      "110   111  111600.000000  1710       2.0          2       1    No   \n",
      "111   112  114900.000000  1740       2.0          2       2    No   \n",
      "112   113  123600.000000  1940       2.0          2       2   Yes   \n",
      "119   120  109700.000000  1920       2.0          2       4    No   \n",
      "120   121  110400.000000  1930       2.0          3       3    No   \n",
      "122   123  144800.000000  2060       2.0          2       1   Yes   \n",
      "125   126  113500.000000  2070       2.0          2       2    No   \n",
      "\n",
      "    Neighborhood  Sales_date  \n",
      "0           East  15-01-2021  \n",
      "11          East  20-11-2021  \n",
      "18          East  08-07-2021  \n",
      "28         North  12-05-2020  \n",
      "31         North  05-10-2022  \n",
      "34         North  26-08-2022  \n",
      "36         North  13-02-2021  \n",
      "42          East  24-07-2020  \n",
      "46         North  06-05-2022  \n",
      "48          East  29-08-2020  \n",
      "51         North  21-01-2021  \n",
      "52         North  09-07-2021  \n",
      "55          East  05-01-2022  \n",
      "61         North  04-07-2020  \n",
      "63          East  12-02-2020  \n",
      "65         North  27-06-2022  \n",
      "75         North  29-12-2021  \n",
      "82          West  25-11-2021  \n",
      "84         North  21-04-2021  \n",
      "89         North  01-04-2021  \n",
      "95          West  08-09-2021  \n",
      "97          East  16-11-2020  \n",
      "110        North  16-05-2020  \n",
      "111        North  20-07-2020  \n",
      "112         East  14-06-2020  \n",
      "119        North  29-01-2021  \n",
      "120        North  17-03-2021  \n",
      "122         East  14-01-2020  \n",
      "125        North  17-08-2021  \n"
     ]
    }
   ],
   "source": [
    "#Filter\n",
    "filtered_df = df[df['Bedrooms'] <= 2]\n",
    "print(filtered_df)"
   ]
  },
  {
   "cell_type": "code",
   "execution_count": 50,
   "id": "5fa3398d",
   "metadata": {},
   "outputs": [
    {
     "name": "stdout",
     "output_type": "stream",
     "text": [
      "        Price  SqFt  Offers\n",
      "0    114300.0  1790       2\n",
      "1    114200.0  2030       3\n",
      "2    114800.0  1740       1\n",
      "3     94700.0  1980       3\n",
      "4    119800.0  2130       3\n",
      "..        ...   ...     ...\n",
      "123  119700.0  1900       3\n",
      "124  147900.0  2160       3\n",
      "125  113500.0  2070       2\n",
      "126  149900.0  2020       1\n",
      "127  124600.0  2250       4\n",
      "\n",
      "[128 rows x 3 columns]\n"
     ]
    }
   ],
   "source": [
    "#Subset\n",
    "subset_df = df[[\"Price\", \"SqFt\", \"Offers\"]]\n",
    "print(subset_df)"
   ]
  },
  {
   "cell_type": "markdown",
   "id": "a33d037b",
   "metadata": {},
   "source": [
    "5. Handle categorical variables by encoding them appropriately (e.g., one-hot encoding or\n",
    "label encoding) for further analysis"
   ]
  },
  {
   "cell_type": "code",
   "execution_count": 51,
   "id": "21cedb48",
   "metadata": {},
   "outputs": [],
   "source": [
    "label_mapping = {\"No\": 0, \"Yes\": 1}\n",
    "df['Brick'] = df['Brick'].map(label_mapping)"
   ]
  },
  {
   "cell_type": "code",
   "execution_count": 52,
   "id": "51417489",
   "metadata": {},
   "outputs": [
    {
     "name": "stdout",
     "output_type": "stream",
     "text": [
      "0      0\n",
      "1      0\n",
      "2      0\n",
      "3      0\n",
      "4      0\n",
      "      ..\n",
      "123    1\n",
      "124    1\n",
      "125    0\n",
      "126    0\n",
      "127    0\n",
      "Name: Brick, Length: 128, dtype: int64\n"
     ]
    }
   ],
   "source": [
    "print(df['Brick'])"
   ]
  },
  {
   "cell_type": "markdown",
   "id": "e9840f5f",
   "metadata": {},
   "source": [
    "6.Aggregate the data to calculate summary statistics or derived metrics such as average\n",
    "sale prices by neighborhood or property type."
   ]
  },
  {
   "cell_type": "code",
   "execution_count": 54,
   "id": "6685dd63",
   "metadata": {},
   "outputs": [],
   "source": [
    "grouped_data = df.groupby(['Neighborhood'])['Price'].mean().reset_index()"
   ]
  },
  {
   "cell_type": "code",
   "execution_count": 55,
   "id": "34ab02df",
   "metadata": {},
   "outputs": [
    {
     "name": "stdout",
     "output_type": "stream",
     "text": [
      "  Neighborhood          Price\n",
      "0         East  124891.935484\n",
      "1        North  111348.570381\n",
      "2         West  159294.871795\n"
     ]
    }
   ],
   "source": [
    "print(grouped_data)"
   ]
  },
  {
   "cell_type": "markdown",
   "id": "a2af7481",
   "metadata": {},
   "source": [
    "7.Identify and handle outliers or extreme values in the data that may affect the analysis\n",
    "or modeling process."
   ]
  },
  {
   "cell_type": "code",
   "execution_count": 56,
   "id": "a7069f05",
   "metadata": {},
   "outputs": [
    {
     "name": "stdout",
     "output_type": "stream",
     "text": [
      "<class 'pandas.core.frame.DataFrame'>\n",
      "RangeIndex: 128 entries, 0 to 127\n",
      "Data columns (total 9 columns):\n",
      " #   Column        Non-Null Count  Dtype  \n",
      "---  ------        --------------  -----  \n",
      " 0   Home          128 non-null    int64  \n",
      " 1   Price         128 non-null    float64\n",
      " 2   SqFt          128 non-null    int64  \n",
      " 3   Bedrooms      128 non-null    float64\n",
      " 4   Bathrooms     128 non-null    int64  \n",
      " 5   Offers        128 non-null    int64  \n",
      " 6   Brick         128 non-null    int64  \n",
      " 7   Neighborhood  128 non-null    object \n",
      " 8   Sales_date    128 non-null    object \n",
      "dtypes: float64(2), int64(5), object(2)\n",
      "memory usage: 9.1+ KB\n",
      "None\n"
     ]
    }
   ],
   "source": [
    "print(df.info())"
   ]
  },
  {
   "cell_type": "code",
   "execution_count": 57,
   "id": "dcd755fb",
   "metadata": {},
   "outputs": [],
   "source": [
    "df['Price'] = df['Price'].astype(int)"
   ]
  },
  {
   "cell_type": "code",
   "execution_count": 58,
   "id": "5adbec7d",
   "metadata": {},
   "outputs": [
    {
     "name": "stdout",
     "output_type": "stream",
     "text": [
      "<class 'pandas.core.frame.DataFrame'>\n",
      "RangeIndex: 128 entries, 0 to 127\n",
      "Data columns (total 9 columns):\n",
      " #   Column        Non-Null Count  Dtype  \n",
      "---  ------        --------------  -----  \n",
      " 0   Home          128 non-null    int64  \n",
      " 1   Price         128 non-null    int32  \n",
      " 2   SqFt          128 non-null    int64  \n",
      " 3   Bedrooms      128 non-null    float64\n",
      " 4   Bathrooms     128 non-null    int64  \n",
      " 5   Offers        128 non-null    int64  \n",
      " 6   Brick         128 non-null    int64  \n",
      " 7   Neighborhood  128 non-null    object \n",
      " 8   Sales_date    128 non-null    object \n",
      "dtypes: float64(1), int32(1), int64(5), object(2)\n",
      "memory usage: 8.6+ KB\n",
      "None\n"
     ]
    }
   ],
   "source": [
    "print(df.info())"
   ]
  },
  {
   "cell_type": "code",
   "execution_count": 63,
   "id": "eeeaa102",
   "metadata": {},
   "outputs": [
    {
     "name": "stdout",
     "output_type": "stream",
     "text": [
      "     Home   Price  SqFt  Bedrooms  Bathrooms  Offers  Brick Neighborhood   \n",
      "103   104  211200  2440       4.0          3       3      1         West  \\\n",
      "\n",
      "     Sales_date   z_score  \n",
      "103  15-01-2020  3.038658  \n"
     ]
    }
   ],
   "source": [
    "from scipy import stats\n",
    "\n",
    "# Calculate the Z-scores for the 'fare_amount' column\n",
    "df['z_score'] = stats.zscore(df['Price'])\n",
    "\n",
    "# Define a threshold for identifying outliers (e.g., 3)\n",
    "threshold = 3\n",
    "\n",
    "# Create a boolean mask to identify outliers\n",
    "outliers_mask = (df['z_score'] > threshold) | (df['z_score'] < -threshold)\n",
    "\n",
    "# Extract the outliers\n",
    "outliers = df[outliers_mask]\n",
    "\n",
    "# Print the outliers\n",
    "print(outliers)"
   ]
  },
  {
   "cell_type": "code",
   "execution_count": 64,
   "id": "4d948982",
   "metadata": {},
   "outputs": [],
   "source": [
    "df.loc[103, 'Price'] = df.loc[103, 'Price'] if df.loc[103, 'Price'] <= threshold else df['Price'].median()"
   ]
  },
  {
   "cell_type": "code",
   "execution_count": 65,
   "id": "9920fb78",
   "metadata": {},
   "outputs": [
    {
     "name": "stdout",
     "output_type": "stream",
     "text": [
      "Result of the 'Price' column:\n",
      "0      114300\n",
      "1      114200\n",
      "2      114800\n",
      "3       94700\n",
      "4      119800\n",
      "        ...  \n",
      "123    119700\n",
      "124    147900\n",
      "125    113500\n",
      "126    149900\n",
      "127    124600\n",
      "Name: Price, Length: 128, dtype: int32\n"
     ]
    }
   ],
   "source": [
    "print(\"Result of the 'Price' column:\")\n",
    "print(df['Price'])"
   ]
  },
  {
   "cell_type": "code",
   "execution_count": 68,
   "id": "c74a7448",
   "metadata": {},
   "outputs": [
    {
     "name": "stdout",
     "output_type": "stream",
     "text": [
      "Empty DataFrame\n",
      "Columns: [Home, Price, SqFt, Bedrooms, Bathrooms, Offers, Brick, Neighborhood, Sales_date, z_score]\n",
      "Index: []\n"
     ]
    }
   ],
   "source": [
    "from scipy import stats\n",
    "\n",
    "# Calculate the Z-scores for the 'fare_amount' column\n",
    "df['z_score'] = stats.zscore(df['Price'])\n",
    "\n",
    "# Define a threshold for identifying outliers (e.g., 3)\n",
    "threshold = 3\n",
    "\n",
    "# Create a boolean mask to identify outliers\n",
    "outliers_mask = (df['z_score'] > threshold) | (df['z_score'] < -threshold)\n",
    "\n",
    "# Extract the outliers\n",
    "outliers = df[outliers_mask]\n",
    "\n",
    "# Print the outliers\n",
    "print(outliers)"
   ]
  },
  {
   "cell_type": "code",
   "execution_count": null,
   "id": "33e9e978",
   "metadata": {},
   "outputs": [],
   "source": []
  }
 ],
 "metadata": {
  "kernelspec": {
   "display_name": "Python 3 (ipykernel)",
   "language": "python",
   "name": "python3"
  },
  "language_info": {
   "codemirror_mode": {
    "name": "ipython",
    "version": 3
   },
   "file_extension": ".py",
   "mimetype": "text/x-python",
   "name": "python",
   "nbconvert_exporter": "python",
   "pygments_lexer": "ipython3",
   "version": "3.9.16"
  }
 },
 "nbformat": 4,
 "nbformat_minor": 5
}

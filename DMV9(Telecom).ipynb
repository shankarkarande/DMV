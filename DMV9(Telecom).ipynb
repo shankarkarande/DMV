{
 "cells": [
  {
   "cell_type": "code",
   "execution_count": 1,
   "id": "9e59d824",
   "metadata": {},
   "outputs": [],
   "source": [
    "import pandas as pd\n",
    "from sklearn.model_selection import train_test_split\n",
    "from sklearn.preprocessing import StandardScaler\n",
    "from sklearn.preprocessing import LabelEncoder"
   ]
  },
  {
   "cell_type": "markdown",
   "id": "16d649ab",
   "metadata": {},
   "source": [
    "1. Import the \"Telecom_Customer_Churn.csv\" dataset."
   ]
  },
  {
   "cell_type": "code",
   "execution_count": 2,
   "id": "ebb23cb8",
   "metadata": {},
   "outputs": [],
   "source": [
    "dataset_path = \"tele_com.csv\"\n",
    "df = pd.read_csv(dataset_path)"
   ]
  },
  {
   "cell_type": "markdown",
   "id": "b8beb8eb",
   "metadata": {},
   "source": [
    "2. Explore the dataset to understand its structure and content."
   ]
  },
  {
   "cell_type": "code",
   "execution_count": 3,
   "id": "53f07f06",
   "metadata": {},
   "outputs": [
    {
     "name": "stdout",
     "output_type": "stream",
     "text": [
      "<class 'pandas.core.frame.DataFrame'>\n",
      "RangeIndex: 14 entries, 0 to 13\n",
      "Data columns (total 21 columns):\n",
      " #   Column            Non-Null Count  Dtype  \n",
      "---  ------            --------------  -----  \n",
      " 0   customerID        14 non-null     object \n",
      " 1   gender            14 non-null     object \n",
      " 2   SeniorCitizen     14 non-null     int64  \n",
      " 3   Partner           14 non-null     object \n",
      " 4   Dependents        14 non-null     object \n",
      " 5   tenure            14 non-null     int64  \n",
      " 6   PhoneService      14 non-null     object \n",
      " 7   MultipleLines     11 non-null     object \n",
      " 8   InternetService   14 non-null     object \n",
      " 9   OnlineSecurity    14 non-null     object \n",
      " 10  OnlineBackup      14 non-null     object \n",
      " 11  DeviceProtection  14 non-null     object \n",
      " 12  TechSupport       14 non-null     object \n",
      " 13  StreamingTV       14 non-null     object \n",
      " 14  StreamingMovies   14 non-null     object \n",
      " 15  Contract          14 non-null     object \n",
      " 16  PaperlessBilling  14 non-null     object \n",
      " 17  PaymentMethod     14 non-null     object \n",
      " 18  MonthlyCharges    14 non-null     float64\n",
      " 19  TotalCharges      14 non-null     float64\n",
      " 20  Churn             14 non-null     object \n",
      "dtypes: float64(2), int64(2), object(17)\n",
      "memory usage: 2.4+ KB\n",
      "None\n"
     ]
    }
   ],
   "source": [
    " print(df.info())"
   ]
  },
  {
   "cell_type": "markdown",
   "id": "f7c33349",
   "metadata": {},
   "source": [
    "3. Handle missing values in the dataset, deciding on an appropriate strategy."
   ]
  },
  {
   "cell_type": "code",
   "execution_count": 4,
   "id": "79b6fd3f",
   "metadata": {},
   "outputs": [
    {
     "name": "stdout",
     "output_type": "stream",
     "text": [
      "\n",
      "Missing Values:\n",
      "customerID          0\n",
      "gender              0\n",
      "SeniorCitizen       0\n",
      "Partner             0\n",
      "Dependents          0\n",
      "tenure              0\n",
      "PhoneService        0\n",
      "MultipleLines       3\n",
      "InternetService     0\n",
      "OnlineSecurity      0\n",
      "OnlineBackup        0\n",
      "DeviceProtection    0\n",
      "TechSupport         0\n",
      "StreamingTV         0\n",
      "StreamingMovies     0\n",
      "Contract            0\n",
      "PaperlessBilling    0\n",
      "PaymentMethod       0\n",
      "MonthlyCharges      0\n",
      "TotalCharges        0\n",
      "Churn               0\n",
      "dtype: int64\n"
     ]
    }
   ],
   "source": [
    "print(\"\\nMissing Values:\")\n",
    "print(df.isnull().sum())"
   ]
  },
  {
   "cell_type": "code",
   "execution_count": 5,
   "id": "bcaaa82b",
   "metadata": {},
   "outputs": [],
   "source": [
    "df['MultipleLines'] = df['MultipleLines'].fillna('Not known').str.lower()"
   ]
  },
  {
   "cell_type": "code",
   "execution_count": 6,
   "id": "6906383d",
   "metadata": {},
   "outputs": [
    {
     "name": "stdout",
     "output_type": "stream",
     "text": [
      "    customerID  gender  SeniorCitizen Partner Dependents  tenure PhoneService   \n",
      "0   7590-VHVEG  Female              0     Yes         No       1           No  \\\n",
      "1   5575-GNVDE    Male              0      No         No      34          Yes   \n",
      "2   3668-QPYBK    Male              0      No         No       2          Yes   \n",
      "3   7795-CFOCW    Male              0      No         No      45           No   \n",
      "4   9237-HQITU  Female              0      No         No       2          Yes   \n",
      "5   9305-CDSKC  Female              0      No         No       8          Yes   \n",
      "6   1452-KIOVK    Male              0      No        Yes      22          Yes   \n",
      "7   6713-OKOMC  Female              0      No         No      10           No   \n",
      "8   7892-POOKP  Female              0     Yes         No      28          Yes   \n",
      "9   6388-TABGU    Male              0      No        Yes      62          Yes   \n",
      "10  9763-GRSKD    Male              0     Yes        Yes      13          Yes   \n",
      "11  7469-LKBCI    Male              0      No         No      16          Yes   \n",
      "12  8091-TTVAX    Male              0     Yes         No      58          Yes   \n",
      "13  0280-XJGEX    Male              0      No         No      49          Yes   \n",
      "\n",
      "   MultipleLines  InternetService       OnlineSecurity  ...   \n",
      "0      not known              DSL                   No  ...  \\\n",
      "1             no              DSL                  Yes  ...   \n",
      "2             no              DSL                  Yes  ...   \n",
      "3      not known              DSL                  Yes  ...   \n",
      "4             no  Fiber opticalal                   No  ...   \n",
      "5            yes  Fiber opticalal                   No  ...   \n",
      "6            yes  Fiber opticalal                   No  ...   \n",
      "7      not known              DSL                  Yes  ...   \n",
      "8            yes  Fiber opticalal                   No  ...   \n",
      "9             no              DSL                  Yes  ...   \n",
      "10            no              DSL                  Yes  ...   \n",
      "11            no               No  No internet service  ...   \n",
      "12           yes  Fiber opticalal                   No  ...   \n",
      "13           yes  Fiber opticalal                   No  ...   \n",
      "\n",
      "       DeviceProtection          TechSupport          StreamingTV   \n",
      "0                    No                   No                   No  \\\n",
      "1                   Yes                   No                   No   \n",
      "2                    No                   No                   No   \n",
      "3                   Yes                  Yes                   No   \n",
      "4                    No                   No                   No   \n",
      "5                   Yes                   No                  Yes   \n",
      "6                    No                   No                  Yes   \n",
      "7                    No                   No                   No   \n",
      "8                   Yes                  Yes                  Yes   \n",
      "9                    No                   No                   No   \n",
      "10                   No                   No                   No   \n",
      "11  No internet service  No internet service  No internet service   \n",
      "12                  Yes                   No                  Yes   \n",
      "13                  Yes                   No                  Yes   \n",
      "\n",
      "        StreamingMovies        Contract PaperlessBilling   \n",
      "0                    No  Month-to-month              Yes  \\\n",
      "1                    No        One year               No   \n",
      "2                    No  Month-to-month              Yes   \n",
      "3                    No        One year               No   \n",
      "4                    No  Month-to-month              Yes   \n",
      "5                   Yes  Month-to-month              Yes   \n",
      "6                    No  Month-to-month              Yes   \n",
      "7                    No  Month-to-month               No   \n",
      "8                   Yes  Month-to-month              Yes   \n",
      "9                    No        One year               No   \n",
      "10                   No  Month-to-month              Yes   \n",
      "11  No internet service        Two year               No   \n",
      "12                  Yes        One year               No   \n",
      "13                  Yes  Month-to-month              Yes   \n",
      "\n",
      "                PaymentMethod MonthlyCharges  TotalCharges  Churn  \n",
      "0            Electronic check          29.85         29.85     No  \n",
      "1                Mailed check          56.95       1889.50     No  \n",
      "2                Mailed check          53.85        108.15    Yes  \n",
      "3   Bank transfer (automatic)          42.30       1840.75     No  \n",
      "4            Electronic check          70.70        151.65    Yes  \n",
      "5            Electronic check          99.65        820.50    Yes  \n",
      "6     Credit card (automatic)          89.10       1949.40     No  \n",
      "7                Mailed check          29.75        301.90     No  \n",
      "8            Electronic check         104.80       3046.05    Yes  \n",
      "9   Bank transfer (automatic)          56.15       3487.95     No  \n",
      "10               Mailed check          49.95        587.45     No  \n",
      "11    Credit card (automatic)          18.95        326.80     No  \n",
      "12    Credit card (automatic)         100.35       5681.10     No  \n",
      "13  Bank transfer (automatic)         103.70       5036.30    Yes  \n",
      "\n",
      "[14 rows x 21 columns]\n"
     ]
    }
   ],
   "source": [
    "print(df)"
   ]
  },
  {
   "cell_type": "markdown",
   "id": "6df3929b",
   "metadata": {},
   "source": [
    "5. Check for inconsistent data, such as inconsistent formatting or spelling variations,\n",
    "and standardize it."
   ]
  },
  {
   "cell_type": "code",
   "execution_count": 7,
   "id": "124bb239",
   "metadata": {},
   "outputs": [],
   "source": [
    "df['InternetService'] = df['InternetService'].replace('Fiber opticalal', 'Fiber Optic')"
   ]
  },
  {
   "cell_type": "code",
   "execution_count": 8,
   "id": "69485893",
   "metadata": {},
   "outputs": [
    {
     "name": "stdout",
     "output_type": "stream",
     "text": [
      "    customerID  gender  SeniorCitizen Partner Dependents  tenure PhoneService   \n",
      "0   7590-VHVEG  Female              0     Yes         No       1           No  \\\n",
      "1   5575-GNVDE    Male              0      No         No      34          Yes   \n",
      "2   3668-QPYBK    Male              0      No         No       2          Yes   \n",
      "3   7795-CFOCW    Male              0      No         No      45           No   \n",
      "4   9237-HQITU  Female              0      No         No       2          Yes   \n",
      "5   9305-CDSKC  Female              0      No         No       8          Yes   \n",
      "6   1452-KIOVK    Male              0      No        Yes      22          Yes   \n",
      "7   6713-OKOMC  Female              0      No         No      10           No   \n",
      "8   7892-POOKP  Female              0     Yes         No      28          Yes   \n",
      "9   6388-TABGU    Male              0      No        Yes      62          Yes   \n",
      "10  9763-GRSKD    Male              0     Yes        Yes      13          Yes   \n",
      "11  7469-LKBCI    Male              0      No         No      16          Yes   \n",
      "12  8091-TTVAX    Male              0     Yes         No      58          Yes   \n",
      "13  0280-XJGEX    Male              0      No         No      49          Yes   \n",
      "\n",
      "   MultipleLines InternetService       OnlineSecurity  ...   \n",
      "0      not known             DSL                   No  ...  \\\n",
      "1             no             DSL                  Yes  ...   \n",
      "2             no             DSL                  Yes  ...   \n",
      "3      not known             DSL                  Yes  ...   \n",
      "4             no     Fiber Optic                   No  ...   \n",
      "5            yes     Fiber Optic                   No  ...   \n",
      "6            yes     Fiber Optic                   No  ...   \n",
      "7      not known             DSL                  Yes  ...   \n",
      "8            yes     Fiber Optic                   No  ...   \n",
      "9             no             DSL                  Yes  ...   \n",
      "10            no             DSL                  Yes  ...   \n",
      "11            no              No  No internet service  ...   \n",
      "12           yes     Fiber Optic                   No  ...   \n",
      "13           yes     Fiber Optic                   No  ...   \n",
      "\n",
      "       DeviceProtection          TechSupport          StreamingTV   \n",
      "0                    No                   No                   No  \\\n",
      "1                   Yes                   No                   No   \n",
      "2                    No                   No                   No   \n",
      "3                   Yes                  Yes                   No   \n",
      "4                    No                   No                   No   \n",
      "5                   Yes                   No                  Yes   \n",
      "6                    No                   No                  Yes   \n",
      "7                    No                   No                   No   \n",
      "8                   Yes                  Yes                  Yes   \n",
      "9                    No                   No                   No   \n",
      "10                   No                   No                   No   \n",
      "11  No internet service  No internet service  No internet service   \n",
      "12                  Yes                   No                  Yes   \n",
      "13                  Yes                   No                  Yes   \n",
      "\n",
      "        StreamingMovies        Contract PaperlessBilling   \n",
      "0                    No  Month-to-month              Yes  \\\n",
      "1                    No        One year               No   \n",
      "2                    No  Month-to-month              Yes   \n",
      "3                    No        One year               No   \n",
      "4                    No  Month-to-month              Yes   \n",
      "5                   Yes  Month-to-month              Yes   \n",
      "6                    No  Month-to-month              Yes   \n",
      "7                    No  Month-to-month               No   \n",
      "8                   Yes  Month-to-month              Yes   \n",
      "9                    No        One year               No   \n",
      "10                   No  Month-to-month              Yes   \n",
      "11  No internet service        Two year               No   \n",
      "12                  Yes        One year               No   \n",
      "13                  Yes  Month-to-month              Yes   \n",
      "\n",
      "                PaymentMethod MonthlyCharges  TotalCharges  Churn  \n",
      "0            Electronic check          29.85         29.85     No  \n",
      "1                Mailed check          56.95       1889.50     No  \n",
      "2                Mailed check          53.85        108.15    Yes  \n",
      "3   Bank transfer (automatic)          42.30       1840.75     No  \n",
      "4            Electronic check          70.70        151.65    Yes  \n",
      "5            Electronic check          99.65        820.50    Yes  \n",
      "6     Credit card (automatic)          89.10       1949.40     No  \n",
      "7                Mailed check          29.75        301.90     No  \n",
      "8            Electronic check         104.80       3046.05    Yes  \n",
      "9   Bank transfer (automatic)          56.15       3487.95     No  \n",
      "10               Mailed check          49.95        587.45     No  \n",
      "11    Credit card (automatic)          18.95        326.80     No  \n",
      "12    Credit card (automatic)         100.35       5681.10     No  \n",
      "13  Bank transfer (automatic)         103.70       5036.30    Yes  \n",
      "\n",
      "[14 rows x 21 columns]\n"
     ]
    }
   ],
   "source": [
    "print(df)"
   ]
  },
  {
   "cell_type": "markdown",
   "id": "74372c60",
   "metadata": {},
   "source": [
    "6. Convert columns to the correct data types as needed"
   ]
  },
  {
   "cell_type": "code",
   "execution_count": 9,
   "id": "7cb8ac99",
   "metadata": {},
   "outputs": [],
   "source": [
    "df['MonthlyCharges'] = df['MonthlyCharges'].astype(int)\n",
    "df['TotalCharges'] = df['TotalCharges'].astype(int)"
   ]
  },
  {
   "cell_type": "code",
   "execution_count": 10,
   "id": "5ffb9900",
   "metadata": {},
   "outputs": [
    {
     "name": "stdout",
     "output_type": "stream",
     "text": [
      "<class 'pandas.core.frame.DataFrame'>\n",
      "RangeIndex: 14 entries, 0 to 13\n",
      "Data columns (total 21 columns):\n",
      " #   Column            Non-Null Count  Dtype \n",
      "---  ------            --------------  ----- \n",
      " 0   customerID        14 non-null     object\n",
      " 1   gender            14 non-null     object\n",
      " 2   SeniorCitizen     14 non-null     int64 \n",
      " 3   Partner           14 non-null     object\n",
      " 4   Dependents        14 non-null     object\n",
      " 5   tenure            14 non-null     int64 \n",
      " 6   PhoneService      14 non-null     object\n",
      " 7   MultipleLines     14 non-null     object\n",
      " 8   InternetService   14 non-null     object\n",
      " 9   OnlineSecurity    14 non-null     object\n",
      " 10  OnlineBackup      14 non-null     object\n",
      " 11  DeviceProtection  14 non-null     object\n",
      " 12  TechSupport       14 non-null     object\n",
      " 13  StreamingTV       14 non-null     object\n",
      " 14  StreamingMovies   14 non-null     object\n",
      " 15  Contract          14 non-null     object\n",
      " 16  PaperlessBilling  14 non-null     object\n",
      " 17  PaymentMethod     14 non-null     object\n",
      " 18  MonthlyCharges    14 non-null     int32 \n",
      " 19  TotalCharges      14 non-null     int32 \n",
      " 20  Churn             14 non-null     object\n",
      "dtypes: int32(2), int64(2), object(17)\n",
      "memory usage: 2.3+ KB\n",
      "None\n"
     ]
    }
   ],
   "source": [
    "print(df.info())"
   ]
  },
  {
   "cell_type": "markdown",
   "id": "c07ac597",
   "metadata": {},
   "source": [
    "7. Identify and handle outliers in the data."
   ]
  },
  {
   "cell_type": "code",
   "execution_count": 11,
   "id": "ce509443",
   "metadata": {},
   "outputs": [
    {
     "name": "stdout",
     "output_type": "stream",
     "text": [
      "Outliers in each column:\n",
      "    tenure  MonthlyCharges  TotalCharges\n",
      "0    False           False         False\n",
      "1    False           False         False\n",
      "2    False           False         False\n",
      "3    False           False         False\n",
      "4    False           False         False\n",
      "5    False           False         False\n",
      "6    False           False         False\n",
      "7    False           False         False\n",
      "8    False           False         False\n",
      "9    False           False         False\n",
      "10   False           False         False\n",
      "11   False           False         False\n",
      "12   False           False         False\n",
      "13   False           False         False\n",
      "\n",
      "Number of outliers in each column:\n",
      "tenure            0\n",
      "MonthlyCharges    0\n",
      "TotalCharges      0\n",
      "dtype: int64\n"
     ]
    }
   ],
   "source": [
    "import numpy as np\n",
    "# Select numerical columns for Z-Score calculation\n",
    "numerical_cols = ['tenure', 'MonthlyCharges', 'TotalCharges']\n",
    "\n",
    "# Calculate Z-Scores for selected columns\n",
    "z_scores = np.abs((df[numerical_cols] - df[numerical_cols].mean()) / df[numerical_cols].std())\n",
    "\n",
    "# Define a threshold for outlier detection (e.g., Z-Score greater than 3)\n",
    "threshold = 3\n",
    "\n",
    "# Identify and print outliers\n",
    "outliers = z_scores > threshold\n",
    "print(\"Outliers in each column:\")\n",
    "print(outliers)\n",
    "\n",
    "# Count outliers in each column\n",
    "outlier_counts = outliers.sum()\n",
    "print(\"\\nNumber of outliers in each column:\")\n",
    "print(outlier_counts)"
   ]
  },
  {
   "cell_type": "markdown",
   "id": "d4d78e86",
   "metadata": {},
   "source": [
    "9.Normalize or scale the data if necessary."
   ]
  },
  {
   "cell_type": "code",
   "execution_count": 12,
   "id": "3c761486",
   "metadata": {},
   "outputs": [
    {
     "name": "stdout",
     "output_type": "stream",
     "text": [
      "   customerID  gender  SeniorCitizen Partner Dependents    tenure   \n",
      "0  7590-VHVEG  Female              0     Yes         No -1.168500  \\\n",
      "1  5575-GNVDE    Male              0      No         No  0.438187   \n",
      "2  3668-QPYBK    Male              0      No         No -1.119812   \n",
      "3  7795-CFOCW    Male              0      No         No  0.973750   \n",
      "4  9237-HQITU  Female              0      No         No -1.119812   \n",
      "\n",
      "  PhoneService MultipleLines InternetService OnlineSecurity  ...   \n",
      "0           No     not known             DSL             No  ...  \\\n",
      "1          Yes            no             DSL            Yes  ...   \n",
      "2          Yes            no             DSL            Yes  ...   \n",
      "3           No     not known             DSL            Yes  ...   \n",
      "4          Yes            no     Fiber Optic             No  ...   \n",
      "\n",
      "  DeviceProtection TechSupport StreamingTV StreamingMovies        Contract   \n",
      "0               No          No          No              No  Month-to-month  \\\n",
      "1              Yes          No          No              No        One year   \n",
      "2               No          No          No              No  Month-to-month   \n",
      "3              Yes         Yes          No              No        One year   \n",
      "4               No          No          No              No  Month-to-month   \n",
      "\n",
      "  PaperlessBilling              PaymentMethod MonthlyCharges  TotalCharges   \n",
      "0              Yes           Electronic check      -1.206650     -0.983989  \\\n",
      "1               No               Mailed check      -0.277702      0.047370   \n",
      "2              Yes               Mailed check      -0.380918     -0.940184   \n",
      "3               No  Bank transfer (automatic)      -0.759379      0.020199   \n",
      "4              Yes           Electronic check       0.203976     -0.916341   \n",
      "\n",
      "   Churn  \n",
      "0     No  \n",
      "1     No  \n",
      "2    Yes  \n",
      "3     No  \n",
      "4    Yes  \n",
      "\n",
      "[5 rows x 21 columns]\n"
     ]
    }
   ],
   "source": [
    "numerical_features = ['tenure', 'MonthlyCharges', 'TotalCharges']\n",
    "scaler = StandardScaler()\n",
    "\n",
    "df[numerical_features] = scaler.fit_transform(df[numerical_features])\n",
    "\n",
    "print(df.head())"
   ]
  },
  {
   "cell_type": "markdown",
   "id": "71b5b7f5",
   "metadata": {},
   "source": [
    "8.Perform feature engineering, creating new features that may be relevant to\n",
    "predicting customer churn"
   ]
  },
  {
   "cell_type": "code",
   "execution_count": 13,
   "id": "d700fab1",
   "metadata": {},
   "outputs": [],
   "source": [
    "df['Contract_Renewal'] = df['Contract'].apply(lambda x: 'Yes' if x in ['One year', 'Two year'] else 'No')"
   ]
  },
  {
   "cell_type": "code",
   "execution_count": 14,
   "id": "49b0126a",
   "metadata": {},
   "outputs": [
    {
     "name": "stdout",
     "output_type": "stream",
     "text": [
      "0      No\n",
      "1     Yes\n",
      "2      No\n",
      "3     Yes\n",
      "4      No\n",
      "5      No\n",
      "6      No\n",
      "7      No\n",
      "8      No\n",
      "9     Yes\n",
      "10     No\n",
      "11    Yes\n",
      "12    Yes\n",
      "13     No\n",
      "Name: Contract_Renewal, dtype: object\n"
     ]
    }
   ],
   "source": [
    "print(df['Contract_Renewal'])"
   ]
  },
  {
   "cell_type": "markdown",
   "id": "46f6fa47",
   "metadata": {},
   "source": [
    "10. Split the dataset into training and testing sets for further analysis."
   ]
  },
  {
   "cell_type": "code",
   "execution_count": 15,
   "id": "2ced9073",
   "metadata": {},
   "outputs": [
    {
     "name": "stdout",
     "output_type": "stream",
     "text": [
      "Training set shape - X: (9, 21) y: (9,)\n",
      "Testing set shape - X: (5, 21) y: (5,)\n"
     ]
    }
   ],
   "source": [
    "X = df.drop(columns=['Churn'])\n",
    "y = df['Churn']\n",
    "\n",
    "# Split the dataset into training and testing sets (e.g., 70% training, 30% testing)\n",
    "X_train, X_test, y_train, y_test = train_test_split(X, y, test_size=0.3, random_state=42)\n",
    "\n",
    "# Print the shapes of the training and testing sets to verify the split\n",
    "print(\"Training set shape - X:\", X_train.shape, \"y:\", y_train.shape)\n",
    "print(\"Testing set shape - X:\", X_test.shape, \"y:\", y_test.shape)"
   ]
  },
  {
   "cell_type": "code",
   "execution_count": null,
   "id": "c969e969",
   "metadata": {},
   "outputs": [],
   "source": []
  }
 ],
 "metadata": {
  "kernelspec": {
   "display_name": "Python 3 (ipykernel)",
   "language": "python",
   "name": "python3"
  },
  "language_info": {
   "codemirror_mode": {
    "name": "ipython",
    "version": 3
   },
   "file_extension": ".py",
   "mimetype": "text/x-python",
   "name": "python",
   "nbconvert_exporter": "python",
   "pygments_lexer": "ipython3",
   "version": "3.9.16"
  }
 },
 "nbformat": 4,
 "nbformat_minor": 5
}
